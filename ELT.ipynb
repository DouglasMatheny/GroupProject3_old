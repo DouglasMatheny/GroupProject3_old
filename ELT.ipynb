{
 "cells": [
  {
   "cell_type": "code",
   "execution_count": 1,
   "metadata": {},
   "outputs": [],
   "source": [
    "import psycopg2\n",
    "import csv"
   ]
  },
  {
   "cell_type": "code",
   "execution_count": 5,
   "metadata": {},
   "outputs": [],
   "source": [
    "try:\n",
    "    conn = psycopg2.connect(\"host=localhost dbname=GroupProject3 user=testuser password=password\")\n",
    "    cur = conn.cursor()\n",
    "    \n",
    "    with open(\"./Resources/TabDelimitedFiles/GlobalTemperatures.txt\", 'r') as f1:\n",
    "        # Skip the first header row.\n",
    "        next(f1)\n",
    "        #Tab or | delimited is the way to go.  Never use comma delimited files.\n",
    "        cur.copy_from(f1, 'STG_GlobalTemperatures', sep='\\t')\n",
    "        conn.commit()\n",
    "        \n",
    "    with open(\"./Resources/TabDelimitedFiles/GlobalLandTemperaturesByState.txt\", 'r') as f1:\n",
    "        # Skip the first header row.\n",
    "        next(f1)\n",
    "        #Tab or | delimited is the way to go.  Never use comma delimited files.\n",
    "        cur.copy_from(f1, 'STG_GlobalLandTemperaturesByState', sep='\\t')\n",
    "        conn.commit()\n",
    "\n",
    "    with open(\"./Resources/TabDelimitedFiles/GlobalLandTemperaturesByMajorCity.txt\", 'r') as f1:\n",
    "        # Skip the first header row.\n",
    "        next(f1)\n",
    "        #Tab or | delimited is the way to go.  Never use comma delimited files.\n",
    "        cur.copy_from(f1, 'STG_GlobalLandTemperaturesByMajorCity', sep='\\t', )\n",
    "        conn.commit()\n",
    "\n",
    "    with open(\"./Resources/TabDelimitedFiles/GlobalLandTemperaturesByCountry.txt\", 'r') as f1:\n",
    "        # Skip the first header row.\n",
    "        next(f1)\n",
    "        #Tab or | delimited is the way to go.  Never use comma delimited files.\n",
    "        cur.copy_from(f1, 'STG_GlobalLandTemperaturesByCountry', sep='\\t')\n",
    "        conn.commit()\n",
    "        \n",
    "        \n",
    "    with open(\"./Resources/TabDelimitedFiles/GlobalLandTemperaturesByCity.txt\", 'r') as f1:\n",
    "        # Skip the first header row.\n",
    "        next(f1)\n",
    "        #Tab or | delimited is the way to go.  Never use comma delimited files.\n",
    "        cur.copy_from(f1, 'STG_GlobalLandTemperaturesByCity', sep='\\t')\n",
    "        conn.commit()\n",
    "        \n",
    "    with open(\"./Resources/TabDelimitedFiles/API_EN.ATM.CO2E.PC_DS2_en_excel_v2_41937.txt\", 'r') as f1:\n",
    "        # Skip the first header row.\n",
    "        next(f1)\n",
    "        next(f1)\n",
    "        next(f1)\n",
    "        next(f1)\n",
    "        #Tab or | delimited is the way to go.  Never use comma delimited files.\n",
    "        cur.copy_from(f1, 'STG_API_EN_ATM_CO2E_PC_DS2_en_excel_v2_41937', sep='\\t')\n",
    "        conn.commit()\n",
    "        \n",
    " \n",
    "except (Exception, psycopg2.DatabaseError) as error:\n",
    "    print(error)\n",
    "finally:\n",
    "    if conn is not None:\n",
    "        conn.close()"
   ]
  },
  {
   "cell_type": "code",
   "execution_count": null,
   "metadata": {},
   "outputs": [],
   "source": []
  },
  {
   "cell_type": "code",
   "execution_count": null,
   "metadata": {},
   "outputs": [],
   "source": []
  }
 ],
 "metadata": {
  "kernelspec": {
   "display_name": "Python 3",
   "language": "python",
   "name": "python3"
  },
  "language_info": {
   "codemirror_mode": {
    "name": "ipython",
    "version": 3
   },
   "file_extension": ".py",
   "mimetype": "text/x-python",
   "name": "python",
   "nbconvert_exporter": "python",
   "pygments_lexer": "ipython3",
   "version": "3.7.1"
  }
 },
 "nbformat": 4,
 "nbformat_minor": 2
}
